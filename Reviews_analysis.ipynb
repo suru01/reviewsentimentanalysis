{
  "nbformat": 4,
  "nbformat_minor": 0,
  "metadata": {
    "colab": {
      "provenance": []
    },
    "kernelspec": {
      "name": "python3",
      "display_name": "Python 3"
    },
    "language_info": {
      "name": "python"
    }
  },
  "cells": [
    {
      "cell_type": "code",
      "execution_count": null,
      "metadata": {
        "id": "eFY6mcsl7YRm"
      },
      "outputs": [],
      "source": [
        "import pandas as pd\n",
        "%matplotlib inline\n",
        "import warnings\n",
        "warnings.filterwarnings(\"ignore\")\n",
        "\n",
        "import sqlite3  #it for if dataset in database to load we use sqlite3\n",
        "#import pandas as pd  #pandas library\n",
        "import numpy as np\n",
        "import nltk\n",
        "import string\n",
        "import matplotlib.pyplot as plt\n",
        "import seaborn as sns\n",
        "from sklearn.feature_extraction.text import TfidfTransformer\n",
        "from sklearn.feature_extraction.text import TfidfVectorizer\n",
        "\n",
        "\n",
        "from sklearn.feature_extraction.text import CountVectorizer\n",
        "from sklearn.metrics import confusion_matrix\n",
        "from sklearn import metrics\n",
        "from sklearn.metrics import roc_curve, auc\n",
        "from nltk.stem.porter import PorterStemmer\n",
        "from bs4 import BeautifulSoup\n",
        "\n",
        "import re\n",
        "# Tutorial about Python regular expressions: https://pymotw.com/2/re/\n",
        "import string\n",
        "from nltk.corpus import stopwords\n",
        "from nltk.stem import PorterStemmer\n",
        "from nltk.stem.wordnet import WordNetLemmatizer\n",
        "\n",
        "from gensim.models import Word2Vec\n",
        "from gensim.models import KeyedVectors\n",
        "import pickle\n",
        "\n",
        "from tqdm import tqdm\n",
        "import os\n"
      ]
    },
    {
      "cell_type": "code",
      "source": [
        "df=pd.read_csv('/content/Reviews.csv')\n",
        "df.shape\n",
        "#df.head(10)\n",
        "def partition(x):\n",
        "  if x<3:\n",
        "    return 0\n",
        "  return 1\n",
        "\n",
        "filtered_data=df[df['Score']!=3]\n",
        "filtered_data.head(10)\n",
        "actual_score=filtered_data['Score']\n",
        "positivenegative=actual_score.map(partition)\n",
        "filtered_data['Score']=positivenegative\n",
        "filtered_data.head(10)\n",
        "filtered_data.shape\n",
        "sorted_data=filtered_data.sort_values('ProductId',axis=0,ascending=True)\n",
        "final=sorted_data.drop_duplicates(subset={\"UserId\",\"ProfileName\",\"Time\",\"Text\"},keep='first',inplace=False)\n",
        "final.shape\n",
        "final=final[final['HelpfulnessNumerator']<=final['HelpfulnessDenominator']]\n",
        "final['Score'].value_counts()\n",
        "sent_4900=final['Text'].values[4900]\n",
        "print(sent_4900)\n",
        "print(\"=\"*50)\n",
        "\n"
      ],
      "metadata": {
        "id": "N7tAxmpX7bQV",
        "colab": {
          "base_uri": "https://localhost:8080/"
        },
        "outputId": "bb08aec6-85a8-474d-a0e8-f96b3f90f79b"
      },
      "execution_count": null,
      "outputs": [
        {
          "output_type": "stream",
          "name": "stdout",
          "text": [
            "Can't do sugar.  Have tried scores of SF Syrups.  NONE of them can touch the excellence of this product.<br /><br />Thick, delicious.  Perfect.  3 ingredients: Water, Maltitol, Natural Maple Flavor.  PERIOD.  No chemicals.  No garbage.<br /><br />Have numerous friends & family members hooked on this stuff.  My husband & son, who do NOT like \"sugar free\" prefer this over major label regular syrup.<br /><br />I use this as my SWEETENER in baking: cheesecakes, white brownies, muffins, pumpkin pies, etc... Unbelievably delicious...<br /><br />Can you tell I like it? :)\n",
            "==================================================\n"
          ]
        }
      ]
    },
    {
      "cell_type": "code",
      "source": [
        "#TEXT PREPROCESSING\n",
        "nltk.download('stopwords')\n",
        "stop=set(stopwords.words('english'))\n",
        "sno=nltk.stem.SnowballStemmer('english')\n",
        "#print(sno.stem('tasty'))\n",
        "def cleanhtml(sentence):\n",
        "  cleanr=re.compile('<*?>')\n",
        "  cleantext=re.sub(cleanr,'',sentence)\n",
        "  return cleantext\n",
        "\n",
        "def cleanpunc(sentence):\n",
        "    cleaned=re.sub(r'[? | ! | \\' |\" | #]',r'',sentence)\n",
        "    cleaned=re.sub(r'[. | , | ) | ( | \\ | / ]' ,r' ',sentence)\n",
        "    return cleaned\n",
        "\n",
        "def decontracted(phrase):    #stackoverflow\n",
        "    # specific\n",
        "    phrase = re.sub(r\"won\\'t\", \"will not\", phrase)\n",
        "    phrase = re.sub(r\"can\\'t\", \"can not\", phrase)\n",
        "\n",
        "    # general\n",
        "    phrase = re.sub(r\"n\\'t\", \" not\", phrase)\n",
        "    phrase = re.sub(r\"\\'re\", \" are\", phrase)\n",
        "    phrase = re.sub(r\"\\'s\", \" is\", phrase)\n",
        "    phrase = re.sub(r\"\\'d\", \" would\", phrase)\n",
        "    phrase = re.sub(r\"\\'ll\", \" will\", phrase)\n",
        "    phrase = re.sub(r\"\\'t\", \" not\", phrase)\n",
        "    phrase = re.sub(r\"\\'ve\", \" have\", phrase)\n",
        "    phrase = re.sub(r\"\\'m\", \" am\", phrase)\n",
        "    return phrase\n",
        "\n",
        "    \n",
        "stopwords= set(['br', 'the', 'i', 'me', 'my', 'myself', 'we', 'our', 'ours', 'ourselves', 'you', \"you're\", \"you've\",\\\n",
        "            \"you'll\", \"you'd\", 'your', 'yours', 'yourself', 'yourselves', 'he', 'him', 'his', 'himself', \\\n",
        "            'she', \"she's\", 'her', 'hers', 'herself', 'it', \"it's\", 'its', 'itself', 'they', 'them', 'their',\\\n",
        "            'theirs', 'themselves', 'what', 'which', 'who', 'whom', 'this', 'that', \"that'll\", 'these', 'those', \\\n",
        "            'am', 'is', 'are', 'was', 'were', 'be', 'been', 'being', 'have', 'has', 'had', 'having', 'do', 'does', \\\n",
        "            'did', 'doing', 'a', 'an', 'the', 'and', 'but', 'if', 'or', 'because', 'as', 'until', 'while', 'of', \\\n",
        "            'at', 'by', 'for', 'with', 'about', 'against', 'between', 'into', 'through', 'during', 'before', 'after',\\\n",
        "            'above', 'below', 'to', 'from', 'up', 'down', 'in', 'out', 'on', 'off', 'over', 'under', 'again', 'further',\\\n",
        "            'then', 'once', 'here', 'there', 'when', 'where', 'why', 'how', 'all', 'any', 'both', 'each', 'few', 'more',\\\n",
        "            'most', 'other', 'some', 'such', 'only', 'own', 'same', 'so', 'than', 'too', 'very', \\\n",
        "            's', 't', 'can', 'will', 'just', 'don', \"don't\", 'should', \"should've\", 'now', 'd', 'll', 'm', 'o', 're', \\\n",
        "            've', 'y', 'ain', 'aren', \"aren't\", 'couldn', \"couldn't\", 'didn', \"didn't\", 'doesn', \"doesn't\", 'hadn',\\\n",
        "            \"hadn't\", 'hasn', \"hasn't\", 'haven', \"haven't\", 'isn', \"isn't\", 'ma', 'mightn', \"mightn't\", 'mustn',\\\n",
        "            \"mustn't\", 'needn', \"needn't\", 'shan', \"shan't\", 'shouldn', \"shouldn't\", 'wasn', \"wasn't\", 'weren', \"weren't\", \\\n",
        "            'won', \"won't\", 'wouldn', \"wouldn't\"])\n",
        "\n",
        "\n",
        "from tqdm import tqdm # tqdm is for printing the status bar\n",
        "i=0\n",
        "str1=' '\n",
        "preprocessed_reviews=[]\n",
        "all_positive_words=[] #store words from +ve reviews here\n",
        "all_negative_words=[] # store words from -ve reviews here\n",
        "s=''\n",
        "\n",
        "for sentance in tqdm(final['Text'].values):\n",
        "    filtered_sentence=[]\n",
        "    #print(sentance)\n",
        "    sentance=cleanhtml(sentance)#removing the html tags\n",
        "    sentance = re.sub(r\"http\\S+\", \"\", sentance)\n",
        "    sentance = BeautifulSoup(sentance, 'lxml').get_text()\n",
        "    sentance = decontracted(sentance)\n",
        "    sentance = re.sub(\"\\S*\\d\\S*\", \"\", sentance).strip()\n",
        "    sentance = re.sub('[^A-Za-z]+', ' ', sentance)\n",
        "    \n",
        "    for w in sentance.split():\n",
        "        for cleaned_words in cleanpunc(w).split():\n",
        "            if((cleaned_words.isalpha()) & (len(cleaned_words) > 2)):\n",
        "                if (cleaned_words.lower() not in stopwords):\n",
        "                    s=(sno.stem(cleaned_words.lower())).encode('utf8')\n",
        "                    filtered_sentence.append(s)\n",
        "                    if (final['Score'].values[i]) == 1 :\n",
        "                      all_positive_words.append(s) #list all the positive words\n",
        "                    if (final['Score'].values[i]) == 0 :\n",
        "                       all_negative_words.append(s) #list all the negative words\n",
        "                else:\n",
        "                    continue\n",
        "            else:\n",
        "                continue\n",
        "    #print(filtered_sentence)\n",
        "    str1=b\" \".join(filtered_sentence) #final string of the filtered sentence\n",
        "    \n",
        "    preprocessed_reviews.append(str1.strip())\n",
        "    i+=1\n",
        "\n",
        "\n",
        "\n",
        "\n",
        "\n",
        "\n",
        "\n",
        "\n"
      ],
      "metadata": {
        "id": "Xup5rr2hWM8U",
        "colab": {
          "base_uri": "https://localhost:8080/"
        },
        "outputId": "b8da1658-4c7b-4e20-9c57-86128334b240"
      },
      "execution_count": null,
      "outputs": [
        {
          "output_type": "stream",
          "name": "stderr",
          "text": [
            "[nltk_data] Downloading package stopwords to /root/nltk_data...\n",
            "[nltk_data]   Unzipping corpora/stopwords.zip.\n",
            "100%|██████████| 364171/364171 [08:22<00:00, 724.61it/s]\n"
          ]
        }
      ]
    },
    {
      "cell_type": "code",
      "source": [
        "#print(stop)\n",
        "type(preprocessed_reviews)\n",
        "final['preprocessed_reviews']=preprocessed_reviews\n",
        "final['preprocessed_reviews']=final['preprocessed_reviews'].str.decode(\"utf-8\")\n",
        "#final.head(10)\n",
        "all_negative_words[0:10]\n",
        "final.to_csv('preprocessed_data.csv',index=False)\n",
        "new_df=pd.read_csv('preprocessed_data.csv')\n",
        "new_df.head(10)"
      ],
      "metadata": {
        "colab": {
          "base_uri": "https://localhost:8080/",
          "height": 1000
        },
        "id": "MJIW81SxmAJY",
        "outputId": "f475279e-9589-4792-e9d5-42d75c5c3170"
      },
      "execution_count": null,
      "outputs": [
        {
          "output_type": "execute_result",
          "data": {
            "text/plain": [
              "       Id   ProductId          UserId                  ProfileName  \\\n",
              "0  150524  0006641040   ACITT7DI6IDDL              shari zychinski   \n",
              "1  150506  0006641040  A2IW4PEEKO2R0U                        Tracy   \n",
              "2  150507  0006641040  A1S4A3IQ2MU7V4        sally sue \"sally sue\"   \n",
              "3  150508  0006641040     AZGXZ2UUK6X  Catherine Hallberg \"(Kate)\"   \n",
              "4  150509  0006641040  A3CMRKGE0P909G                       Teresa   \n",
              "5  150511  0006641040  A1C9K534BCI9GO           Laura Purdie Salas   \n",
              "6  150512  0006641040  A1DJXZA5V5FFVA                    A. Conway   \n",
              "7  150513  0006641040   ASH0DZQQF6AIZ                     tessarat   \n",
              "8  150514  0006641040   A2ONB6ZA292PA             Rosalind Matzner   \n",
              "9  150515  0006641040  A2RTT81R6Y3R7X                      Lindylu   \n",
              "\n",
              "   HelpfulnessNumerator  HelpfulnessDenominator  Score        Time  \\\n",
              "0                     0                       0      1   939340800   \n",
              "1                     1                       1      1  1194739200   \n",
              "2                     1                       1      1  1191456000   \n",
              "3                     1                       1      1  1076025600   \n",
              "4                     3                       4      1  1018396800   \n",
              "5                     0                       0      1  1344211200   \n",
              "6                     0                       0      1  1338249600   \n",
              "7                     0                       0      1  1325721600   \n",
              "8                     0                       0      1  1313884800   \n",
              "9                     0                       0      1  1303171200   \n",
              "\n",
              "                                      Summary  \\\n",
              "0                   EVERY book is educational   \n",
              "1  Love the book, miss the hard cover version   \n",
              "2               chicken soup with rice months   \n",
              "3      a good swingy rhythm for reading aloud   \n",
              "4             A great way to learn the months   \n",
              "5                      Charming and childlike   \n",
              "6                                  Must have.   \n",
              "7                                   A classic   \n",
              "8                      Chicken soup with Rice   \n",
              "9          One of our family's favorite books   \n",
              "\n",
              "                                                Text  \\\n",
              "0  this witty little book makes my son laugh at l...   \n",
              "1  I grew up reading these Sendak books, and watc...   \n",
              "2  This is a fun way for children to learn their ...   \n",
              "3  This is a great little book to read aloud- it ...   \n",
              "4  This is a book of poetry about the months of t...   \n",
              "5  A charming, rhyming book that describes the ci...   \n",
              "6  I set aside at least an hour each day to read ...   \n",
              "7  I remembered this book from my childhood and g...   \n",
              "8  It's a great book with adorable illustrations....   \n",
              "9  This book is a family favorite and was read to...   \n",
              "\n",
              "                                preprocessed_reviews  \n",
              "0  witti littl book make son laugh loud recit car...  \n",
              "1  grew read sendak book watch realli rosi movi i...  \n",
              "2  fun way children learn month year learn poem t...  \n",
              "3  great littl book read aloud nice rhythm well g...  \n",
              "4  book poetri month year goe month cute littl po...  \n",
              "5  charm rhyme book describ circumst eat not chic...  \n",
              "6  set asid least hour day read son point consid ...  \n",
              "7  rememb book childhood got kid good rememb kid ...  \n",
              "8  great book ador illustr true classic kid love ...  \n",
              "9  book famili favorit read children small order ...  "
            ],
            "text/html": [
              "\n",
              "  <div id=\"df-d4213ec2-af52-484c-b284-fbdeaab2c1d8\">\n",
              "    <div class=\"colab-df-container\">\n",
              "      <div>\n",
              "<style scoped>\n",
              "    .dataframe tbody tr th:only-of-type {\n",
              "        vertical-align: middle;\n",
              "    }\n",
              "\n",
              "    .dataframe tbody tr th {\n",
              "        vertical-align: top;\n",
              "    }\n",
              "\n",
              "    .dataframe thead th {\n",
              "        text-align: right;\n",
              "    }\n",
              "</style>\n",
              "<table border=\"1\" class=\"dataframe\">\n",
              "  <thead>\n",
              "    <tr style=\"text-align: right;\">\n",
              "      <th></th>\n",
              "      <th>Id</th>\n",
              "      <th>ProductId</th>\n",
              "      <th>UserId</th>\n",
              "      <th>ProfileName</th>\n",
              "      <th>HelpfulnessNumerator</th>\n",
              "      <th>HelpfulnessDenominator</th>\n",
              "      <th>Score</th>\n",
              "      <th>Time</th>\n",
              "      <th>Summary</th>\n",
              "      <th>Text</th>\n",
              "      <th>preprocessed_reviews</th>\n",
              "    </tr>\n",
              "  </thead>\n",
              "  <tbody>\n",
              "    <tr>\n",
              "      <th>0</th>\n",
              "      <td>150524</td>\n",
              "      <td>0006641040</td>\n",
              "      <td>ACITT7DI6IDDL</td>\n",
              "      <td>shari zychinski</td>\n",
              "      <td>0</td>\n",
              "      <td>0</td>\n",
              "      <td>1</td>\n",
              "      <td>939340800</td>\n",
              "      <td>EVERY book is educational</td>\n",
              "      <td>this witty little book makes my son laugh at l...</td>\n",
              "      <td>witti littl book make son laugh loud recit car...</td>\n",
              "    </tr>\n",
              "    <tr>\n",
              "      <th>1</th>\n",
              "      <td>150506</td>\n",
              "      <td>0006641040</td>\n",
              "      <td>A2IW4PEEKO2R0U</td>\n",
              "      <td>Tracy</td>\n",
              "      <td>1</td>\n",
              "      <td>1</td>\n",
              "      <td>1</td>\n",
              "      <td>1194739200</td>\n",
              "      <td>Love the book, miss the hard cover version</td>\n",
              "      <td>I grew up reading these Sendak books, and watc...</td>\n",
              "      <td>grew read sendak book watch realli rosi movi i...</td>\n",
              "    </tr>\n",
              "    <tr>\n",
              "      <th>2</th>\n",
              "      <td>150507</td>\n",
              "      <td>0006641040</td>\n",
              "      <td>A1S4A3IQ2MU7V4</td>\n",
              "      <td>sally sue \"sally sue\"</td>\n",
              "      <td>1</td>\n",
              "      <td>1</td>\n",
              "      <td>1</td>\n",
              "      <td>1191456000</td>\n",
              "      <td>chicken soup with rice months</td>\n",
              "      <td>This is a fun way for children to learn their ...</td>\n",
              "      <td>fun way children learn month year learn poem t...</td>\n",
              "    </tr>\n",
              "    <tr>\n",
              "      <th>3</th>\n",
              "      <td>150508</td>\n",
              "      <td>0006641040</td>\n",
              "      <td>AZGXZ2UUK6X</td>\n",
              "      <td>Catherine Hallberg \"(Kate)\"</td>\n",
              "      <td>1</td>\n",
              "      <td>1</td>\n",
              "      <td>1</td>\n",
              "      <td>1076025600</td>\n",
              "      <td>a good swingy rhythm for reading aloud</td>\n",
              "      <td>This is a great little book to read aloud- it ...</td>\n",
              "      <td>great littl book read aloud nice rhythm well g...</td>\n",
              "    </tr>\n",
              "    <tr>\n",
              "      <th>4</th>\n",
              "      <td>150509</td>\n",
              "      <td>0006641040</td>\n",
              "      <td>A3CMRKGE0P909G</td>\n",
              "      <td>Teresa</td>\n",
              "      <td>3</td>\n",
              "      <td>4</td>\n",
              "      <td>1</td>\n",
              "      <td>1018396800</td>\n",
              "      <td>A great way to learn the months</td>\n",
              "      <td>This is a book of poetry about the months of t...</td>\n",
              "      <td>book poetri month year goe month cute littl po...</td>\n",
              "    </tr>\n",
              "    <tr>\n",
              "      <th>5</th>\n",
              "      <td>150511</td>\n",
              "      <td>0006641040</td>\n",
              "      <td>A1C9K534BCI9GO</td>\n",
              "      <td>Laura Purdie Salas</td>\n",
              "      <td>0</td>\n",
              "      <td>0</td>\n",
              "      <td>1</td>\n",
              "      <td>1344211200</td>\n",
              "      <td>Charming and childlike</td>\n",
              "      <td>A charming, rhyming book that describes the ci...</td>\n",
              "      <td>charm rhyme book describ circumst eat not chic...</td>\n",
              "    </tr>\n",
              "    <tr>\n",
              "      <th>6</th>\n",
              "      <td>150512</td>\n",
              "      <td>0006641040</td>\n",
              "      <td>A1DJXZA5V5FFVA</td>\n",
              "      <td>A. Conway</td>\n",
              "      <td>0</td>\n",
              "      <td>0</td>\n",
              "      <td>1</td>\n",
              "      <td>1338249600</td>\n",
              "      <td>Must have.</td>\n",
              "      <td>I set aside at least an hour each day to read ...</td>\n",
              "      <td>set asid least hour day read son point consid ...</td>\n",
              "    </tr>\n",
              "    <tr>\n",
              "      <th>7</th>\n",
              "      <td>150513</td>\n",
              "      <td>0006641040</td>\n",
              "      <td>ASH0DZQQF6AIZ</td>\n",
              "      <td>tessarat</td>\n",
              "      <td>0</td>\n",
              "      <td>0</td>\n",
              "      <td>1</td>\n",
              "      <td>1325721600</td>\n",
              "      <td>A classic</td>\n",
              "      <td>I remembered this book from my childhood and g...</td>\n",
              "      <td>rememb book childhood got kid good rememb kid ...</td>\n",
              "    </tr>\n",
              "    <tr>\n",
              "      <th>8</th>\n",
              "      <td>150514</td>\n",
              "      <td>0006641040</td>\n",
              "      <td>A2ONB6ZA292PA</td>\n",
              "      <td>Rosalind Matzner</td>\n",
              "      <td>0</td>\n",
              "      <td>0</td>\n",
              "      <td>1</td>\n",
              "      <td>1313884800</td>\n",
              "      <td>Chicken soup with Rice</td>\n",
              "      <td>It's a great book with adorable illustrations....</td>\n",
              "      <td>great book ador illustr true classic kid love ...</td>\n",
              "    </tr>\n",
              "    <tr>\n",
              "      <th>9</th>\n",
              "      <td>150515</td>\n",
              "      <td>0006641040</td>\n",
              "      <td>A2RTT81R6Y3R7X</td>\n",
              "      <td>Lindylu</td>\n",
              "      <td>0</td>\n",
              "      <td>0</td>\n",
              "      <td>1</td>\n",
              "      <td>1303171200</td>\n",
              "      <td>One of our family's favorite books</td>\n",
              "      <td>This book is a family favorite and was read to...</td>\n",
              "      <td>book famili favorit read children small order ...</td>\n",
              "    </tr>\n",
              "  </tbody>\n",
              "</table>\n",
              "</div>\n",
              "      <button class=\"colab-df-convert\" onclick=\"convertToInteractive('df-d4213ec2-af52-484c-b284-fbdeaab2c1d8')\"\n",
              "              title=\"Convert this dataframe to an interactive table.\"\n",
              "              style=\"display:none;\">\n",
              "        \n",
              "  <svg xmlns=\"http://www.w3.org/2000/svg\" height=\"24px\"viewBox=\"0 0 24 24\"\n",
              "       width=\"24px\">\n",
              "    <path d=\"M0 0h24v24H0V0z\" fill=\"none\"/>\n",
              "    <path d=\"M18.56 5.44l.94 2.06.94-2.06 2.06-.94-2.06-.94-.94-2.06-.94 2.06-2.06.94zm-11 1L8.5 8.5l.94-2.06 2.06-.94-2.06-.94L8.5 2.5l-.94 2.06-2.06.94zm10 10l.94 2.06.94-2.06 2.06-.94-2.06-.94-.94-2.06-.94 2.06-2.06.94z\"/><path d=\"M17.41 7.96l-1.37-1.37c-.4-.4-.92-.59-1.43-.59-.52 0-1.04.2-1.43.59L10.3 9.45l-7.72 7.72c-.78.78-.78 2.05 0 2.83L4 21.41c.39.39.9.59 1.41.59.51 0 1.02-.2 1.41-.59l7.78-7.78 2.81-2.81c.8-.78.8-2.07 0-2.86zM5.41 20L4 18.59l7.72-7.72 1.47 1.35L5.41 20z\"/>\n",
              "  </svg>\n",
              "      </button>\n",
              "      \n",
              "  <style>\n",
              "    .colab-df-container {\n",
              "      display:flex;\n",
              "      flex-wrap:wrap;\n",
              "      gap: 12px;\n",
              "    }\n",
              "\n",
              "    .colab-df-convert {\n",
              "      background-color: #E8F0FE;\n",
              "      border: none;\n",
              "      border-radius: 50%;\n",
              "      cursor: pointer;\n",
              "      display: none;\n",
              "      fill: #1967D2;\n",
              "      height: 32px;\n",
              "      padding: 0 0 0 0;\n",
              "      width: 32px;\n",
              "    }\n",
              "\n",
              "    .colab-df-convert:hover {\n",
              "      background-color: #E2EBFA;\n",
              "      box-shadow: 0px 1px 2px rgba(60, 64, 67, 0.3), 0px 1px 3px 1px rgba(60, 64, 67, 0.15);\n",
              "      fill: #174EA6;\n",
              "    }\n",
              "\n",
              "    [theme=dark] .colab-df-convert {\n",
              "      background-color: #3B4455;\n",
              "      fill: #D2E3FC;\n",
              "    }\n",
              "\n",
              "    [theme=dark] .colab-df-convert:hover {\n",
              "      background-color: #434B5C;\n",
              "      box-shadow: 0px 1px 3px 1px rgba(0, 0, 0, 0.15);\n",
              "      filter: drop-shadow(0px 1px 2px rgba(0, 0, 0, 0.3));\n",
              "      fill: #FFFFFF;\n",
              "    }\n",
              "  </style>\n",
              "\n",
              "      <script>\n",
              "        const buttonEl =\n",
              "          document.querySelector('#df-d4213ec2-af52-484c-b284-fbdeaab2c1d8 button.colab-df-convert');\n",
              "        buttonEl.style.display =\n",
              "          google.colab.kernel.accessAllowed ? 'block' : 'none';\n",
              "\n",
              "        async function convertToInteractive(key) {\n",
              "          const element = document.querySelector('#df-d4213ec2-af52-484c-b284-fbdeaab2c1d8');\n",
              "          const dataTable =\n",
              "            await google.colab.kernel.invokeFunction('convertToInteractive',\n",
              "                                                     [key], {});\n",
              "          if (!dataTable) return;\n",
              "\n",
              "          const docLinkHtml = 'Like what you see? Visit the ' +\n",
              "            '<a target=\"_blank\" href=https://colab.research.google.com/notebooks/data_table.ipynb>data table notebook</a>'\n",
              "            + ' to learn more about interactive tables.';\n",
              "          element.innerHTML = '';\n",
              "          dataTable['output_type'] = 'display_data';\n",
              "          await google.colab.output.renderOutput(dataTable, element);\n",
              "          const docLink = document.createElement('div');\n",
              "          docLink.innerHTML = docLinkHtml;\n",
              "          element.appendChild(docLink);\n",
              "        }\n",
              "      </script>\n",
              "    </div>\n",
              "  </div>\n",
              "  "
            ]
          },
          "metadata": {},
          "execution_count": 4
        }
      ]
    },
    {
      "cell_type": "code",
      "source": [
        "X=final['preprocessed_reviews'].values\n",
        "y=final['Score'].values"
      ],
      "metadata": {
        "id": "ZN7paTPMTG8O"
      },
      "execution_count": null,
      "outputs": []
    },
    {
      "cell_type": "code",
      "source": [
        "print(X.shape)\n",
        "print(y.shape)"
      ],
      "metadata": {
        "id": "2_3ZlCGkVIHx",
        "colab": {
          "base_uri": "https://localhost:8080/"
        },
        "outputId": "6d26e752-9cff-4f75-d6d1-00650fd5e1ac"
      },
      "execution_count": null,
      "outputs": [
        {
          "output_type": "stream",
          "name": "stdout",
          "text": [
            "(364171,)\n",
            "(364171,)\n"
          ]
        }
      ]
    },
    {
      "cell_type": "code",
      "source": [
        "#splitting the data \n",
        "from sklearn.model_selection import train_test_split\n",
        "X_train,X_test,y_train,y_test=train_test_split(X,y,test_size=0.3)\n",
        "print(X_train.shape,y_train.shape)\n",
        "print(X_test.shape,y_test.shape)\n"
      ],
      "metadata": {
        "colab": {
          "base_uri": "https://localhost:8080/"
        },
        "id": "V3YugQw0Cjeu",
        "outputId": "21a8f364-6378-438b-f65f-6751c1fa24f0"
      },
      "execution_count": null,
      "outputs": [
        {
          "output_type": "stream",
          "name": "stdout",
          "text": [
            "(254919,) (254919,)\n",
            "(109252,) (109252,)\n"
          ]
        }
      ]
    },
    {
      "cell_type": "code",
      "source": [
        "from sklearn.feature_extraction.text import CountVectorizer\n",
        "Vect=CountVectorizer()\n",
        "X_train_Bow=Vect.fit_transform(X_train)\n",
        "X_test_Bow=Vect.transform(X_test)\n",
        "print(X_train_Bow.shape,y_train.shape)\n",
        "print(X_test_Bow.shape,y_test.shape)"
      ],
      "metadata": {
        "colab": {
          "base_uri": "https://localhost:8080/"
        },
        "id": "8gRLqCzECblQ",
        "outputId": "504cea56-6c35-4900-f3d4-e8ec0ff1e71c"
      },
      "execution_count": null,
      "outputs": [
        {
          "output_type": "stream",
          "name": "stdout",
          "text": [
            "(254919, 49606) (254919,)\n",
            "(109252, 49606) (109252,)\n"
          ]
        }
      ]
    },
    {
      "cell_type": "code",
      "source": [
        "X_train=X_train_Bow\n",
        "X_test=X_test_Bow\n",
        "from sklearn.naive_bayes import MultinomialNB\n",
        "from sklearn.model_selection import GridSearchCV\n",
        "from sklearn.metrics import confusion_matrix,roc_curve,auc\n",
        "from sklearn.model_selection import KFold\n",
        "from sklearn.metrics import roc_auc_score\n",
        "import matplotlib.pyplot as plt\n",
        "import seaborn as sns\n",
        "import pandas.util.testing as tm\n",
        "import math\n",
        "def gridsearch(X_train,y_train):\n",
        "  cv=KFold(n_splits=5)\n",
        "  alpha_values = [0.00001,0.0001,0.001,0.01,0.1,1,10,100,1000,10000,100000]\n",
        "  model=MultinomialNB()\n",
        "  parameters={'alpha':alpha_values}\n",
        "  clf=GridSearchCV(model,parameters,scoring='roc_auc',cv=cv,return_train_score=True,verbose=1)\n",
        "  clf.fit(X_train,y_train)\n",
        "  new_clf=pd.DataFrame.from_dict(clf.cv_results_)\n",
        "  new_clf.sort_values(['param_alpha'])\n",
        "  best_alpha=clf.best_params_['alpha']\n",
        "  score=clf.best_score_\n",
        "  print(score)\n",
        "\n",
        "  return best_alpha\n",
        "\n",
        "best_alpha=gridsearch(X_train,y_train)\n",
        "best_alpha\n",
        "model=MultinomialNB(alpha=best_alpha)\n",
        "model.fit(X_train,y_train)\n",
        "\n",
        "  \n",
        "   \n"
      ],
      "metadata": {
        "id": "2cW2JyuR0nuZ",
        "colab": {
          "base_uri": "https://localhost:8080/"
        },
        "outputId": "d417f722-f935-497b-c106-03995b782176"
      },
      "execution_count": null,
      "outputs": [
        {
          "output_type": "stream",
          "name": "stdout",
          "text": [
            "Fitting 5 folds for each of 11 candidates, totalling 55 fits\n",
            "0.9058265451860226\n"
          ]
        },
        {
          "output_type": "execute_result",
          "data": {
            "text/plain": [
              "MultinomialNB(alpha=1)"
            ]
          },
          "metadata": {},
          "execution_count": 9
        }
      ]
    },
    {
      "cell_type": "code",
      "source": [
        "best_alpha=gridsearch(X_train,y_train)\n",
        "best_alpha"
      ],
      "metadata": {
        "id": "ORG8KHmM8rFm",
        "colab": {
          "base_uri": "https://localhost:8080/"
        },
        "outputId": "b0696adc-66c6-494e-86f2-95c5700878a6"
      },
      "execution_count": null,
      "outputs": [
        {
          "output_type": "stream",
          "name": "stdout",
          "text": [
            "Fitting 5 folds for each of 11 candidates, totalling 55 fits\n",
            "0.9058265451860226\n"
          ]
        },
        {
          "output_type": "execute_result",
          "data": {
            "text/plain": [
              "1"
            ]
          },
          "metadata": {},
          "execution_count": 11
        }
      ]
    },
    {
      "cell_type": "code",
      "source": [
        "from sklearn.metrics import roc_curve, auc\n",
        "\n",
        "def test_data(X_train,y_train,X_test,y_test):\n",
        "    model=MultinomialNB(alpha=best_alpha)\n",
        "    model.fit(X_train, y_train)\n",
        "    \n",
        "    # roc_auc_score(y_true, y_score) the 2nd parameter should be probability estimates of the positive class\n",
        "    # not the predicted outputs\n",
        "\n",
        "    train_fpr, train_tpr, thresholds = roc_curve(y_train, model.predict_proba(X_train)[:,1])\n",
        "    test_fpr, test_tpr, thresholds = roc_curve(y_test, model.predict_proba(X_test)[:,1])\n",
        "\n",
        "    sns.set()\n",
        "    plt.plot(train_fpr, train_tpr, label=\"train AUC =\"+str(auc(train_fpr, train_tpr)))\n",
        "    plt.plot(test_fpr, test_tpr, label=\"test AUC =\"+str(auc(test_fpr, test_tpr)))\n",
        "    plt.plot([0, 1], [0, 1], color='green', lw=1, linestyle='--')\n",
        "    plt.legend()\n",
        "    plt.xlabel(\"False_positive_rate\")\n",
        "    plt.ylabel(\"True positive_rate\")    \n",
        "    plt.title(\"ROC_Curve\")\n",
        "    plt.grid()\n",
        "    plt.show()\n",
        "    print('The AUC_score of test_data is :',auc(test_fpr, test_tpr))"
      ],
      "metadata": {
        "id": "3tjtxyoH-YxH"
      },
      "execution_count": null,
      "outputs": []
    },
    {
      "cell_type": "code",
      "source": [
        "test_data(X_train,y_train,X_test,y_test)"
      ],
      "metadata": {
        "colab": {
          "base_uri": "https://localhost:8080/",
          "height": 318
        },
        "id": "-D4wrEGZGE4m",
        "outputId": "4cd65cce-9bde-43f5-9805-f5fa3fec2f4d"
      },
      "execution_count": null,
      "outputs": [
        {
          "output_type": "display_data",
          "data": {
            "text/plain": [
              "<Figure size 432x288 with 1 Axes>"
            ],
            "image/png": "[encoded data removed]"
          },
          "metadata": {}
        },
        {
          "output_type": "stream",
          "name": "stdout",
          "text": [
            "The AUC_score of test_data is : 0.9093553553257456\n"
          ]
        }
      ]
    }
  ]
}